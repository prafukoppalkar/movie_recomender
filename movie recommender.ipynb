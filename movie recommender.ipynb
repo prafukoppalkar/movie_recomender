{
 "cells": [
  {
   "cell_type": "code",
   "execution_count": 1,
   "metadata": {},
   "outputs": [
    {
     "name": "stderr",
     "output_type": "stream",
     "text": [
      "/opt/anaconda3/lib/python3.7/site-packages/fuzzywuzzy/fuzz.py:11: UserWarning: Using slow pure-python SequenceMatcher. Install python-Levenshtein to remove this warning\n",
      "  warnings.warn('Using slow pure-python SequenceMatcher. Install python-Levenshtein to remove this warning')\n"
     ]
    }
   ],
   "source": [
    "import pandas as pd\n",
    "from scipy.sparse import csr_matrix\n",
    "from sklearn.neighbors import NearestNeighbors\n",
    "from fuzzywuzzy import process"
   ]
  },
  {
   "cell_type": "code",
   "execution_count": 2,
   "metadata": {},
   "outputs": [],
   "source": [
    "movies = 'movies.csv'\n",
    "ratings = 'ratings.csv'\n",
    "\n",
    "df_movies = pd.read_csv(movies, usecols=['movieId','title'], dtype={'movieId':'int32','title':'str'})\n",
    "df_ratings = pd.read_csv(ratings, usecols=['userId', 'movieId','rating'], dtype={'userId':'int32', 'movieId':'int32', 'rating':'float32'})\n"
   ]
  },
  {
   "cell_type": "code",
   "execution_count": 3,
   "metadata": {},
   "outputs": [],
   "source": [
    "#sparse matrix\n",
    "#      users\n",
    "#      [4,4,5]\n",
    "#movies[3,3,4]\n",
    "#      [3,2,1]\n",
    "\n",
    "\n",
    "movie_users=df_ratings.pivot(index='movieId',columns='userId',values='rating').fillna(0)\n",
    "mat_movies_users=csr_matrix(movie_users.values)"
   ]
  },
  {
   "cell_type": "code",
   "execution_count": 4,
   "metadata": {},
   "outputs": [],
   "source": [
    "#methods to measure\n",
    "#-------------------\n",
    "#1.Euclidian Distance\n",
    "#2.Manhattan Distance\n",
    "#3.Minkowski Distance\n",
    "#4.Cosine similarity\n",
    "model_knn= NearestNeighbors(metric='cosine', algorithm='brute',n_neighbors=20)"
   ]
  },
  {
   "cell_type": "code",
   "execution_count": 5,
   "metadata": {},
   "outputs": [
    {
     "data": {
      "text/plain": [
       "NearestNeighbors(algorithm='brute', leaf_size=30, metric='cosine',\n",
       "                 metric_params=None, n_jobs=None, n_neighbors=20, p=2,\n",
       "                 radius=1.0)"
      ]
     },
     "execution_count": 5,
     "metadata": {},
     "output_type": "execute_result"
    }
   ],
   "source": [
    "model_knn.fit(mat_movies_users)"
   ]
  },
  {
   "cell_type": "code",
   "execution_count": 6,
   "metadata": {},
   "outputs": [
    {
     "name": "stdout",
     "output_type": "stream",
     "text": [
      "Enter any english movie you like: anaconda\n",
      "-----------------------------------------\n",
      "Searching for recomendations.....\n",
      "\n",
      "Movie Selected:  Anaconda (1997) Index:  1145 \n",
      "\n",
      "RECOMMENDED MOVIES\n",
      "\n",
      "1145                                                  NaN\n",
      "2194                                     Body Heat (1981)\n",
      "1230                                Ice Storm, The (1997)\n",
      "1318                           Blues Brothers 2000 (1998)\n",
      "955                                      Duck Soup (1933)\n",
      "1945                                     Following (1998)\n",
      "2102                                    Funny Farm (1988)\n",
      "983                                 Big Sleep, The (1946)\n",
      "1321                                      Palmetto (1998)\n",
      "898     Star Wars: Episode V - The Empire Strikes Back...\n",
      "1444                                     Labyrinth (1986)\n",
      "384                             Dazed and Confused (1993)\n",
      "2414                              Against All Odds (1984)\n",
      "2257                         House on Haunted Hill (1999)\n",
      "1231                                   Chasing Amy (1997)\n",
      "1670                            Married to the Mob (1988)\n",
      "1153                    Children of the Revolution (1996)\n",
      "2440                                 Wayne's World (1992)\n",
      "2601                                Empire Records (1995)\n",
      "1182                                          Fall (1997)\n",
      "Name: title, dtype: object\n"
     ]
    }
   ],
   "source": [
    "#recomender (movie_name)=> list of movies recomended tous \n",
    "\n",
    "def recommender(movie_name, data, model, n_recommendations ):\n",
    "    model.fit(data)\n",
    "    idx=process.extractOne(movie_name, df_movies['title'])[2]\n",
    "    print('Movie Selected: ',df_movies['title'][idx], 'Index: ',idx,'\\n')\n",
    "    print('RECOMMENDED MOVIES\\n')\n",
    "    distances, indices= model.kneighbors(data[idx], n_neighbors=n_recommendations)\n",
    "    for i in indices: \n",
    "        print(df_movies['title'][i].where(i!=idx))\n",
    "    \n",
    "    \n",
    "fav_movie = input('Enter any english movie you like: ')\n",
    "print(\"-----------------------------------------\")\n",
    "print('Searching for recomendations.....\\n')\n",
    "recommender(fav_movie,mat_movies_users,model_knn,20)\n"
   ]
  },
  {
   "cell_type": "code",
   "execution_count": null,
   "metadata": {},
   "outputs": [],
   "source": []
  },
  {
   "cell_type": "code",
   "execution_count": null,
   "metadata": {},
   "outputs": [],
   "source": []
  },
  {
   "cell_type": "code",
   "execution_count": null,
   "metadata": {},
   "outputs": [],
   "source": []
  },
  {
   "cell_type": "code",
   "execution_count": null,
   "metadata": {},
   "outputs": [],
   "source": []
  },
  {
   "cell_type": "code",
   "execution_count": null,
   "metadata": {},
   "outputs": [],
   "source": []
  },
  {
   "cell_type": "code",
   "execution_count": null,
   "metadata": {},
   "outputs": [],
   "source": []
  }
 ],
 "metadata": {
  "kernelspec": {
   "display_name": "Python 3",
   "language": "python",
   "name": "python3"
  },
  "language_info": {
   "codemirror_mode": {
    "name": "ipython",
    "version": 3
   },
   "file_extension": ".py",
   "mimetype": "text/x-python",
   "name": "python",
   "nbconvert_exporter": "python",
   "pygments_lexer": "ipython3",
   "version": "3.7.6"
  }
 },
 "nbformat": 4,
 "nbformat_minor": 4
}
